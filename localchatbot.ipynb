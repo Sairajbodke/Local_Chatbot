{
 "cells": [
  {
   "cell_type": "code",
   "execution_count": 1,
   "id": "2fa288c5-5e30-4ebb-b6c3-a213bfc2d11c",
   "metadata": {},
   "outputs": [
    {
     "name": "stdout",
     "output_type": "stream",
     "text": [
      "🤖 Chatbot ready! Type your questions. Type '/exit' to stop.\n",
      "\n"
     ]
    },
    {
     "name": "stdin",
     "output_type": "stream",
     "text": [
      "User:  what is AI?\n"
     ]
    },
    {
     "name": "stdout",
     "output_type": "stream",
     "text": [
      "Bot: Human-Computer Interaction\n"
     ]
    },
    {
     "name": "stdin",
     "output_type": "stream",
     "text": [
      "User:  what is example of AI?\n"
     ]
    },
    {
     "name": "stdout",
     "output_type": "stream",
     "text": [
      "Bot: Artificial Language\n"
     ]
    },
    {
     "name": "stdin",
     "output_type": "stream",
     "text": [
      "User:  /exit\n"
     ]
    },
    {
     "name": "stdout",
     "output_type": "stream",
     "text": [
      "👋 Exiting chatbot. Goodbye!\n"
     ]
    }
   ],
   "source": [
    "from transformers import pipeline, AutoTokenizer, AutoModelForSeq2SeqLM\n",
    "\n",
    "# Load Model (FLAN-T5)\n",
    "model_name = \"google/flan-t5-large\"  # change to base/small if you have GPU\n",
    "tokenizer = AutoTokenizer.from_pretrained(model_name)\n",
    "model = AutoModelForSeq2SeqLM.from_pretrained(model_name)\n",
    "chat_pipeline = pipeline(\"text2text-generation\", model=model, tokenizer=tokenizer)\n",
    "\n",
    "# Chat Memory (sliding window)\n",
    "class ChatMemory:\n",
    "    def __init__(self, max_turns=5):\n",
    "        self.max_turns = max_turns\n",
    "        self.history = []\n",
    "\n",
    "    def add(self, user, bot):\n",
    "        self.history.append((user, bot))\n",
    "        if len(self.history) > self.max_turns:\n",
    "            self.history.pop(0)\n",
    "\n",
    "    def get_context(self):\n",
    "        context = \"\"\n",
    "        for u, b in self.history:\n",
    "            context += f\"User: {u}\\nBot: {b}\\n\"\n",
    "        return context\n",
    "\n",
    "# Chatbot Class\n",
    "class Chatbot:\n",
    "    def __init__(self):\n",
    "        self.memory = ChatMemory(max_turns=3)\n",
    "\n",
    "    def ask(self, query):\n",
    "        # Prepare context\n",
    "        context = self.memory.get_context()\n",
    "        prompt = f\"{context}User: {query}\\nBot:\"\n",
    "\n",
    "        # Generate response\n",
    "        response = chat_pipeline(\n",
    "            prompt, max_length=200, truncation=True, do_sample=True\n",
    "        )[0]['generated_text']\n",
    "\n",
    "        # Clean response (remove extra \"User:\" if generated)\n",
    "        if \"User:\" in response:\n",
    "            response = response.split(\"User:\")[0].strip()\n",
    "\n",
    "        # Update memory\n",
    "        self.memory.add(query, response)\n",
    "        return response\n",
    "\n",
    "# Run Chatbot (Terminal Loop)\n",
    "if __name__ == \"__main__\":\n",
    "    bot = Chatbot()\n",
    "    print(\"🤖 Chatbot ready! Type your questions. Type '/exit' to stop.\\n\")\n",
    "\n",
    "    while True:\n",
    "        user_input = input(\"User: \")\n",
    "        if user_input.strip().lower() in [\"/exit\", \"exit\", \"quit\"]:\n",
    "            print(\"👋 Exiting chatbot. Goodbye!\")\n",
    "            break\n",
    "        reply = bot.ask(user_input)\n",
    "        print(\"Bot:\", reply)\n"
   ]
  },
  {
   "cell_type": "code",
   "execution_count": null,
   "id": "86334fbd-a166-46e7-9507-37feb562ec9f",
   "metadata": {},
   "outputs": [],
   "source": []
  }
 ],
 "metadata": {
  "kernelspec": {
   "display_name": "Python 3 (ipykernel)",
   "language": "python",
   "name": "python3"
  },
  "language_info": {
   "codemirror_mode": {
    "name": "ipython",
    "version": 3
   },
   "file_extension": ".py",
   "mimetype": "text/x-python",
   "name": "python",
   "nbconvert_exporter": "python",
   "pygments_lexer": "ipython3",
   "version": "3.10.9"
  }
 },
 "nbformat": 4,
 "nbformat_minor": 5
}
